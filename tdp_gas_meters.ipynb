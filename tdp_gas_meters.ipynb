{
 "cells": [
  {
   "cell_type": "code",
   "execution_count": 1,
   "id": "667bb9e9",
   "metadata": {},
   "outputs": [],
   "source": [
    "import pandas as pd\n",
    "\n",
    "# Load data\n",
    "meters_df = pd.read_csv('gorilla_test_data.csv')\n",
    "forecast_df = pd.read_csv('rate_table.csv')"
   ]
  },
  {
   "cell_type": "code",
   "execution_count": 2,
   "id": "4f28fe9a",
   "metadata": {},
   "outputs": [],
   "source": [
    "\n",
    "aq_band = forecast_df.groupby('exit_zone').apply(\n",
    "    lambda x: pd.IntervalIndex.from_arrays(x['aq_min_kwh'], x['aq_max_kwh'], closed='left')\n",
    ")\n",
    "\n",
    "aq_band.name = 'aq_band'"
   ]
  },
  {
   "cell_type": "code",
   "execution_count": 3,
   "id": "e7ebc667",
   "metadata": {},
   "outputs": [],
   "source": [
    "# Merge forecast and meter data\n",
    "merged_df = pd.merge(meters_df, forecast_df, on='exit_zone')\n",
    "merged_df = pd.merge(merged_df, aq_band, on='exit_zone')\n",
    "\n",
    "# Calculate daily transportation distribution charge\n",
    "merged_df['daily_charge'] = merged_df.apply(\n",
    "    lambda row: row['rate_p_per_kwh'] * row['aq_kwh'] if row['aq_band'].contains(row['aq_kwh'])[0] else 0,\n",
    "    axis=1\n",
    ")"
   ]
  },
  {
   "cell_type": "code",
   "execution_count": 4,
   "id": "79c247d7",
   "metadata": {},
   "outputs": [],
   "source": [
    "\n",
    "# Calculate total cost per meter and total consumption per meter\n",
    "meter_summary = merged_df.groupby('meter_id').agg(\n",
    "    total_cost=('daily_charge', 'sum'),\n",
    "    total_consumption=('aq_kwh', 'sum')\n",
    ")\n",
    "\n",
    "# Convert total cost to pounds\n",
    "meter_summary['total_cost'] = meter_summary['total_cost'] * 0.01\n",
    "\n",
    "# Calculate cost per day for each meter\n",
    "daily_summary = merged_df.groupby(['meter_id', 'date']).agg(\n",
    "    cost_per_day=('aq_kwh', 'first'),\n",
    "    rate_per_kwh=('rate_p_per_kwh', 'first')\n",
    ")\n",
    "daily_summary['cost_per_day'] = daily_summary['cost_per_day'] * daily_summary['rate_per_kwh'] * 0.01\n",
    "\n"
   ]
  },
  {
   "cell_type": "code",
   "execution_count": 5,
   "id": "b1147c9d",
   "metadata": {},
   "outputs": [],
   "source": [
    "# Aggregate daily summary to meter summary\n",
    "daily_summary_agg = daily_summary.groupby('meter_id').agg(\n",
    "    total_estimated_consumption=('cost_per_day', 'count'),\n",
    "    total_cost=('cost_per_day', 'sum')\n",
    ")\n",
    "\n"
   ]
  },
  {
   "cell_type": "code",
   "execution_count": 6,
   "id": "d51ca49f",
   "metadata": {},
   "outputs": [],
   "source": [
    "# Round all numerical values to 2 decimals\n",
    "meter_summary = meter_summary.round(2)\n",
    "daily_summary_agg = daily_summary_agg.round(2)\n",
    "\n"
   ]
  },
  {
   "cell_type": "code",
   "execution_count": 7,
   "id": "e1b82138",
   "metadata": {},
   "outputs": [],
   "source": [
    "# Rename columns and index\n",
    "meter_summary = meter_summary.rename(columns={'total_cost': 'Total Cost (£)', 'total_consumption': 'Total Estimated Consumption(kWh)'})\n",
    "daily_summary_agg = daily_summary_agg.rename(columns={'total_estimated_consumption': 'Total Estimated Consumption(kWh)', 'total_cost': 'Total Cost (£)'})\n",
    "daily_summary_agg.index.names = ['Meter ID']\n",
    "\n"
   ]
  },
  {
   "cell_type": "code",
   "execution_count": 8,
   "id": "f3ea4e61",
   "metadata": {},
   "outputs": [
    {
     "name": "stdout",
     "output_type": "stream",
     "text": [
      "Meter Summary:\n"
     ]
    },
    {
     "data": {
      "text/html": [
       "<div>\n",
       "<style scoped>\n",
       "    .dataframe tbody tr th:only-of-type {\n",
       "        vertical-align: middle;\n",
       "    }\n",
       "\n",
       "    .dataframe tbody tr th {\n",
       "        vertical-align: top;\n",
       "    }\n",
       "\n",
       "    .dataframe thead th {\n",
       "        text-align: right;\n",
       "    }\n",
       "</style>\n",
       "<table border=\"1\" class=\"dataframe\">\n",
       "  <thead>\n",
       "    <tr style=\"text-align: right;\">\n",
       "      <th></th>\n",
       "      <th>Total Cost (£)</th>\n",
       "      <th>Total Estimated Consumption(kWh)</th>\n",
       "    </tr>\n",
       "    <tr>\n",
       "      <th>meter_id</th>\n",
       "      <th></th>\n",
       "      <th></th>\n",
       "    </tr>\n",
       "  </thead>\n",
       "  <tbody>\n",
       "    <tr>\n",
       "      <th>14676236</th>\n",
       "      <td>1135.53</td>\n",
       "      <td>260802</td>\n",
       "    </tr>\n",
       "    <tr>\n",
       "      <th>34509937</th>\n",
       "      <td>0.00</td>\n",
       "      <td>603000</td>\n",
       "    </tr>\n",
       "    <tr>\n",
       "      <th>50264822</th>\n",
       "      <td>0.00</td>\n",
       "      <td>2391003</td>\n",
       "    </tr>\n",
       "    <tr>\n",
       "      <th>88357331</th>\n",
       "      <td>0.00</td>\n",
       "      <td>4359591</td>\n",
       "    </tr>\n",
       "  </tbody>\n",
       "</table>\n",
       "</div>"
      ],
      "text/plain": [
       "          Total Cost (£)  Total Estimated Consumption(kWh)\n",
       "meter_id                                                  \n",
       "14676236         1135.53                            260802\n",
       "34509937            0.00                            603000\n",
       "50264822            0.00                           2391003\n",
       "88357331            0.00                           4359591"
      ]
     },
     "metadata": {},
     "output_type": "display_data"
    },
    {
     "name": "stdout",
     "output_type": "stream",
     "text": [
      "Daily Summary:\n"
     ]
    },
    {
     "data": {
      "text/html": [
       "<div>\n",
       "<style scoped>\n",
       "    .dataframe tbody tr th:only-of-type {\n",
       "        vertical-align: middle;\n",
       "    }\n",
       "\n",
       "    .dataframe tbody tr th {\n",
       "        vertical-align: top;\n",
       "    }\n",
       "\n",
       "    .dataframe thead th {\n",
       "        text-align: right;\n",
       "    }\n",
       "</style>\n",
       "<table border=\"1\" class=\"dataframe\">\n",
       "  <thead>\n",
       "    <tr style=\"text-align: right;\">\n",
       "      <th></th>\n",
       "      <th>Total Estimated Consumption(kWh)</th>\n",
       "      <th>Total Cost (£)</th>\n",
       "    </tr>\n",
       "    <tr>\n",
       "      <th>Meter ID</th>\n",
       "      <th></th>\n",
       "      <th></th>\n",
       "    </tr>\n",
       "  </thead>\n",
       "  <tbody>\n",
       "    <tr>\n",
       "      <th>14676236</th>\n",
       "      <td>9</td>\n",
       "      <td>1135.53</td>\n",
       "    </tr>\n",
       "    <tr>\n",
       "      <th>34509937</th>\n",
       "      <td>9</td>\n",
       "      <td>2143.40</td>\n",
       "    </tr>\n",
       "    <tr>\n",
       "      <th>50264822</th>\n",
       "      <td>9</td>\n",
       "      <td>8656.23</td>\n",
       "    </tr>\n",
       "    <tr>\n",
       "      <th>88357331</th>\n",
       "      <td>9</td>\n",
       "      <td>16000.18</td>\n",
       "    </tr>\n",
       "  </tbody>\n",
       "</table>\n",
       "</div>"
      ],
      "text/plain": [
       "          Total Estimated Consumption(kWh)  Total Cost (£)\n",
       "Meter ID                                                  \n",
       "14676236                                 9         1135.53\n",
       "34509937                                 9         2143.40\n",
       "50264822                                 9         8656.23\n",
       "88357331                                 9        16000.18"
      ]
     },
     "metadata": {},
     "output_type": "display_data"
    }
   ],
   "source": [
    "# Print results\n",
    "print('Meter Summary:')\n",
    "display(meter_summary)\n",
    "print('Daily Summary:')\n",
    "display(daily_summary_agg)"
   ]
  },
  {
   "cell_type": "code",
   "execution_count": null,
   "id": "6a7e573f",
   "metadata": {},
   "outputs": [],
   "source": []
  },
  {
   "cell_type": "code",
   "execution_count": null,
   "id": "fb12f6af",
   "metadata": {},
   "outputs": [],
   "source": []
  }
 ],
 "metadata": {
  "kernelspec": {
   "display_name": "Python 3 (ipykernel)",
   "language": "python",
   "name": "python3"
  },
  "language_info": {
   "codemirror_mode": {
    "name": "ipython",
    "version": 3
   },
   "file_extension": ".py",
   "mimetype": "text/x-python",
   "name": "python",
   "nbconvert_exporter": "python",
   "pygments_lexer": "ipython3",
   "version": "3.9.16"
  }
 },
 "nbformat": 4,
 "nbformat_minor": 5
}
