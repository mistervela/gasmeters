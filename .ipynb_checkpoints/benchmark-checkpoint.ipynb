{
 "cells": [
  {
   "cell_type": "code",
   "execution_count": null,
   "id": "e738e5a2",
   "metadata": {},
   "outputs": [],
   "source": [
    "import time\n",
    "import numpy as np\n",
    "import pandas as pd\n",
    "from random_meters import generate_random_meters\n",
    "from mock_consumption import generate_consumption_data\n",
    "from transportation_cost import calculate_transportation_cost"
   ]
  },
  {
   "cell_type": "code",
   "execution_count": null,
   "id": "1e400faa",
   "metadata": {},
   "outputs": [],
   "source": [
    "def benchmark_transportation_cost(meter_sizes, exit_zones, start_date, durations):\n",
    "    costs = {}\n",
    "    for meter_size in meter_sizes:\n",
    "        # Generate random meters\n",
    "        meters = generate_random_meters(meter_size, exit_zones)\n",
    "\n",
    "        # Generate consumption data\n",
    "        consumption_data = generate_consumption_data(meters, start_date, max(durations), exit_zones)\n",
    "\n",
    "        for duration in durations:\n",
    "\n",
    "            # Calculate transportation cost\n",
    "            total_cost = calculate_transportation_cost(meters, consumption_data)['Total Cost (£)'].sum()\n",
    "\n",
    "            # Record the transportation cost\n",
    "            key = (meter_size, duration)\n",
    "            costs[key] = total_cost\n",
    "\n",
    "    return costs\n"
   ]
  },
  {
   "cell_type": "code",
   "execution_count": null,
   "id": "81b05797",
   "metadata": {},
   "outputs": [],
   "source": [
    "meter_sizes = [100, 500]\n",
    "exit_zones = ['EA1', 'EA2', 'EA3']\n",
    "start_date = pd.to_datetime('2022-01-01')\n",
    "durations = [30, 60, 90]\n"
   ]
  },
  {
   "cell_type": "code",
   "execution_count": null,
   "id": "3c7e83f3",
   "metadata": {},
   "outputs": [],
   "source": [
    "costs = benchmark_transportation_cost(meter_sizes, exit_zones, start_date, durations)"
   ]
  },
  {
   "cell_type": "code",
   "execution_count": null,
   "id": "b3984129",
   "metadata": {},
   "outputs": [],
   "source": [
    "display(costs)"
   ]
  },
  {
   "cell_type": "code",
   "execution_count": null,
   "id": "1ffed8d3",
   "metadata": {},
   "outputs": [],
   "source": []
  }
 ],
 "metadata": {
  "kernelspec": {
   "display_name": "Python 3 (ipykernel)",
   "language": "python",
   "name": "python3"
  },
  "language_info": {
   "codemirror_mode": {
    "name": "ipython",
    "version": 3
   },
   "file_extension": ".py",
   "mimetype": "text/x-python",
   "name": "python",
   "nbconvert_exporter": "python",
   "pygments_lexer": "ipython3",
   "version": "3.9.16"
  }
 },
 "nbformat": 4,
 "nbformat_minor": 5
}
